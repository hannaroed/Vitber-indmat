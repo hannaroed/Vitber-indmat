{
 "cells": [
  {
   "cell_type": "code",
   "execution_count": 1,
   "metadata": {},
   "outputs": [],
   "source": [
    "%load_ext autoreload\n",
    "%autoreload 2"
   ]
  },
  {
   "cell_type": "code",
   "execution_count": 2,
   "metadata": {},
   "outputs": [],
   "source": [
    "import numpy as np\n",
    "import jax.numpy as jnp\n",
    "import jax\n",
    "import jax.random as jrandom"
   ]
  },
  {
   "cell_type": "code",
   "execution_count": 25,
   "metadata": {},
   "outputs": [
    {
     "name": "stdout",
     "output_type": "stream",
     "text": [
      "(2, 3)\n",
      "(5, 3, 2)\n",
      "[[[ 0.0000000e+00  0.0000000e+00]\n",
      "  [ 1.4901161e-08  0.0000000e+00]]\n",
      "\n",
      " [[ 0.0000000e+00 -2.9802322e-08]\n",
      "  [-2.9802322e-08  2.3841858e-07]]\n",
      "\n",
      " [[ 0.0000000e+00  0.0000000e+00]\n",
      "  [ 0.0000000e+00 -1.1920929e-07]]\n",
      "\n",
      " [[ 5.9604645e-08  0.0000000e+00]\n",
      "  [ 0.0000000e+00  0.0000000e+00]]\n",
      "\n",
      " [[ 0.0000000e+00  0.0000000e+00]\n",
      "  [ 0.0000000e+00  8.9406967e-08]]]\n",
      "[[[[-1.11205214e-08 -1.54819801e-09]\n",
      "   [-3.27570149e-09 -1.77625523e-08]\n",
      "   [-4.39871535e-08 -2.71883737e-08]]\n",
      "\n",
      "  [[ 1.57698814e-08  2.14102425e-08]\n",
      "   [ 1.61450354e-07 -1.18389391e-07]\n",
      "   [ 5.81359134e-08  6.79754271e-08]]\n",
      "\n",
      "  [[ 1.92657343e-08 -6.84767159e-08]\n",
      "   [ 7.70442909e-09 -1.33064582e-08]\n",
      "   [-3.49659857e-10 -2.50611629e-08]]\n",
      "\n",
      "  [[-1.12520659e-09  3.28681500e-08]\n",
      "   [ 3.17221041e-08  3.73587312e-08]\n",
      "   [ 6.64036603e-09  1.92668210e-08]]\n",
      "\n",
      "  [[ 8.66035483e-08  2.37996582e-08]\n",
      "   [ 1.81227033e-08  7.29825071e-08]\n",
      "   [-1.20852093e-08  2.15488645e-08]]]]\n"
     ]
    }
   ],
   "source": [
    "from layers import LinearLayer\n",
    "import equinox as eqx\n",
    "from layers import batched_mm\n",
    "\n",
    "key = jrandom.PRNGKey(0)\n",
    "\n",
    "linear = LinearLayer(3, 2, True, 0.1)\n",
    "linear.params['w']['w']\n",
    "\n",
    "class Linear(eqx.Module):\n",
    "    weight: jnp.ndarray\n",
    "    bias: jnp.ndarray\n",
    "    def __init__(self, input_dim, output_dim, key):\n",
    "        self.weight = jax.random.normal(key, (output_dim, input_dim))\n",
    "        self.bias = jax.random.normal(key, (output_dim,))\n",
    "    \n",
    "    def __call__(self, x):\n",
    "        return jnp.einsum('bis,oi->bos', x, self.weight) + self.bias[None, :, None]\n",
    "\n",
    "batch_size, dig, seq = 5, 3, 2\n",
    "x = jrandom.normal(key, (batch_size, 3, seq))\n",
    "jax_linear = Linear(3, 2, jax.random.PRNGKey(0))\n",
    "# out = jax_linear(x)\n",
    "\n",
    "# diffs = jrandom.normal(key, out.shape)\n",
    "\n",
    "# primals, vjp_fun = eqx.filter_vjp(jax_linear.__call__, x)\n",
    "# vjp_fun(out)\n",
    "\n",
    "def test_backward(jax_mod, my_mod, *args):\n",
    "    primals, vjp_fun = eqx.filter_vjp(jax_mod.__call__, *args)\n",
    "    diffs = jrandom.normal(key, primals.shape)\n",
    "    backed = vjp_fun(diffs)\n",
    "\n",
    "    args_mapped = [np.array(x, dtype=np.float64) for x in args]\n",
    "    primals_mine = my_mod.forward(*args_mapped)\n",
    "    backed_mine = my_mod.backward(np.array(diffs, dtype=np.float64))\n",
    "\n",
    "    print(primals - primals_mine)\n",
    "    print(backed - backed_mine)\n",
    "    assert np.allclose(np.array(primals), primals_mine)\n",
    "    assert np.allclose(np.array(backed), backed_mine)\n",
    "\n",
    "linear.params['w']['w'] = np.array(jax_linear.weight, dtype=np.float64).copy()\n",
    "print(linear.params['w']['w'].shape)\n",
    "print(x.shape)\n",
    "# print(batched_mm(linear.params['w']['w'], x).shape)\n",
    "linear.params['b']['w'] = np.array(jax_linear.bias, dtype=np.float64)[:, None].copy()\n",
    "test_backward(jax_linear, linear, x)"
   ]
  },
  {
   "cell_type": "code",
   "execution_count": 26,
   "metadata": {},
   "outputs": [
    {
     "name": "stdout",
     "output_type": "stream",
     "text": [
      "[[[ 0.0000000e+00  2.9802322e-08]\n",
      "  [ 7.4505806e-09  2.9802322e-08]\n",
      "  [ 5.9604645e-08  2.9802322e-08]]\n",
      "\n",
      " [[ 0.0000000e+00  0.0000000e+00]\n",
      "  [ 0.0000000e+00  0.0000000e+00]\n",
      "  [ 0.0000000e+00  0.0000000e+00]]\n",
      "\n",
      " [[ 0.0000000e+00  0.0000000e+00]\n",
      "  [ 0.0000000e+00  0.0000000e+00]\n",
      "  [ 0.0000000e+00  0.0000000e+00]]\n",
      "\n",
      " [[-2.9802322e-08  0.0000000e+00]\n",
      "  [ 0.0000000e+00  0.0000000e+00]\n",
      "  [ 0.0000000e+00 -1.4901161e-08]]\n",
      "\n",
      " [[ 2.9802322e-08  0.0000000e+00]\n",
      "  [ 0.0000000e+00  0.0000000e+00]\n",
      "  [ 2.9802322e-08  1.4901161e-08]]]\n",
      "[[[[-1.19512546e-08 -1.15222698e-08]\n",
      "   [-2.23788299e-08 -2.30276542e-08]\n",
      "   [-5.38400856e-08 -1.84939561e-08]]\n",
      "\n",
      "  [[-2.12966785e-08  1.45802842e-09]\n",
      "   [-3.00589783e-08  2.49374237e-09]\n",
      "   [-2.01895425e-09  5.16536428e-09]]\n",
      "\n",
      "  [[-3.36910841e-08 -7.14107423e-09]\n",
      "   [-3.69118398e-08 -1.28443045e-09]\n",
      "   [-2.45850245e-08 -7.82553701e-08]]\n",
      "\n",
      "  [[ 2.08120076e-08 -2.22866270e-09]\n",
      "   [ 2.67632172e-09 -2.59669183e-08]\n",
      "   [ 1.49142169e-08 -1.72183687e-08]]\n",
      "\n",
      "  [[-3.02159220e-09  5.04840421e-09]\n",
      "   [ 8.21870891e-09  3.97482119e-09]\n",
      "   [ 5.50321738e-09 -2.85195861e-09]]]]\n"
     ]
    }
   ],
   "source": [
    "from layers import Softmax\n",
    "class SoftmaxJax(eqx.Module):\n",
    "    def __call__(self, x):\n",
    "        return jax.nn.softmax(x, axis=1)\n",
    "\n",
    "softmax_jax = SoftmaxJax()\n",
    "softmax = Softmax()\n",
    "\n",
    "x = jrandom.normal(key, (batch_size, 3, seq))\n",
    "\n",
    "test_backward(softmax_jax, softmax, x)\n"
   ]
  },
  {
   "cell_type": "code",
   "execution_count": 27,
   "metadata": {},
   "outputs": [
    {
     "ename": "TypingError",
     "evalue": "Failed in nopython mode pipeline (step: nopython frontend)\n\u001b[1m\u001b[1m\u001b[1m\u001b[1m- Resolution failure for literal arguments:\n\u001b[1mFailed in nopython mode pipeline (step: nopython frontend)\n\u001b[1m\u001b[1mNo implementation of function Function(<built-in function getitem>) found for signature:\n\n >>> getitem(array(float64, 3d, C), Tuple(int64, array(float64, 1d, C), int64))\n\nThere are 22 candidate implementations:\n\u001b[1m  - Of which 20 did not match due to:\n  Overload of function 'getitem': File: <numerous>: Line N/A.\n    With argument(s): '(array(float64, 3d, C), Tuple(int64, array(float64, 1d, C), int64))':\u001b[0m\n\u001b[1m   No match.\u001b[0m\n\u001b[1m  - Of which 2 did not match due to:\n  Overload in function 'GetItemBuffer.generic': File: numba/core/typing/arraydecl.py: Line 209.\n    With argument(s): '(array(float64, 3d, C), Tuple(int64, array(float64, 1d, C), int64))':\u001b[0m\n\u001b[1m   Rejected as the implementation raised a specific error:\n     NumbaTypeError: \u001b[1mUnsupported array index type array(float64, 1d, C) in Tuple(int64, array(float64, 1d, C), int64)\u001b[0m\u001b[0m\n  raised from /opt/homebrew/Caskroom/miniforge/base/envs/jax/lib/python3.12/site-packages/numba/core/typing/arraydecl.py:102\n\u001b[0m\n\u001b[0m\u001b[1mDuring: typing of intrinsic-call at /Users/marcel/git/Vitber-indmat/layers.py (460)\u001b[0m\n\u001b[1m\nFile \"layers.py\", line 460:\u001b[0m\n\u001b[1m    def forward(self, y_pred: np.ndarray, y_true: np.ndarray):\n        <source elided>\n            for seq_index in range(y_pred.shape[2]):\n\u001b[1m                per_token_loss[batch_index, seq_index] = -np.log(y_pred[batch_index, y_true[batch_index, seq_index], seq_index] + self.epsilon)\n\u001b[0m                \u001b[1m^\u001b[0m\u001b[0m\n\u001b[0m\n\u001b[0m\u001b[1m- Resolution failure for non-literal arguments:\n\u001b[1mNone\u001b[0m\n\u001b[0m\u001b[0m\n\u001b[0m\u001b[1mDuring: resolving callee type: BoundFunction((<class 'numba.core.types.misc.ClassInstanceType'>, 'forward') for instance.jitclass.CrossEntropy#317627080<epsilon:float64,prev_y_pred:OptionalType(array(float64, 3d, A)),prev_y:OptionalType(array(int64, 2d, A))>)\u001b[0m\n\u001b[0m\u001b[1mDuring: typing of call at <string> (3)\n\u001b[0m\n\u001b[1m\nFile \"<string>\", line 3:\u001b[0m\n\u001b[1m<source missing, REPL/exec in use?>\u001b[0m\n",
     "output_type": "error",
     "traceback": [
      "\u001b[0;31m---------------------------------------------------------------------------\u001b[0m",
      "\u001b[0;31mTypingError\u001b[0m                               Traceback (most recent call last)",
      "Cell \u001b[0;32mIn[27], line 14\u001b[0m\n\u001b[1;32m     11\u001b[0m x \u001b[38;5;241m=\u001b[39m jrandom\u001b[38;5;241m.\u001b[39mnormal(key, (batch_size, \u001b[38;5;241m3\u001b[39m, seq))\n\u001b[1;32m     12\u001b[0m y \u001b[38;5;241m=\u001b[39m jrandom\u001b[38;5;241m.\u001b[39mnormal(key, (batch_size, \u001b[38;5;241m3\u001b[39m, seq))\n\u001b[0;32m---> 14\u001b[0m \u001b[43mtest_backward\u001b[49m\u001b[43m(\u001b[49m\u001b[43mloss_jax\u001b[49m\u001b[43m,\u001b[49m\u001b[43m \u001b[49m\u001b[43mloss\u001b[49m\u001b[43m,\u001b[49m\u001b[43m \u001b[49m\u001b[43mx\u001b[49m\u001b[43m,\u001b[49m\u001b[43m \u001b[49m\u001b[43my\u001b[49m\u001b[43m)\u001b[49m\n",
      "Cell \u001b[0;32mIn[25], line 36\u001b[0m, in \u001b[0;36mtest_backward\u001b[0;34m(jax_mod, my_mod, *args)\u001b[0m\n\u001b[1;32m     33\u001b[0m backed \u001b[38;5;241m=\u001b[39m vjp_fun(diffs)\n\u001b[1;32m     35\u001b[0m args_mapped \u001b[38;5;241m=\u001b[39m [np\u001b[38;5;241m.\u001b[39marray(x, dtype\u001b[38;5;241m=\u001b[39mnp\u001b[38;5;241m.\u001b[39mfloat64) \u001b[38;5;28;01mfor\u001b[39;00m x \u001b[38;5;129;01min\u001b[39;00m args]\n\u001b[0;32m---> 36\u001b[0m primals_mine \u001b[38;5;241m=\u001b[39m \u001b[43mmy_mod\u001b[49m\u001b[38;5;241;43m.\u001b[39;49m\u001b[43mforward\u001b[49m\u001b[43m(\u001b[49m\u001b[38;5;241;43m*\u001b[39;49m\u001b[43margs_mapped\u001b[49m\u001b[43m)\u001b[49m\n\u001b[1;32m     37\u001b[0m backed_mine \u001b[38;5;241m=\u001b[39m my_mod\u001b[38;5;241m.\u001b[39mbackward(np\u001b[38;5;241m.\u001b[39marray(diffs, dtype\u001b[38;5;241m=\u001b[39mnp\u001b[38;5;241m.\u001b[39mfloat64))\n\u001b[1;32m     39\u001b[0m \u001b[38;5;28mprint\u001b[39m(primals \u001b[38;5;241m-\u001b[39m primals_mine)\n",
      "File \u001b[0;32m/opt/homebrew/Caskroom/miniforge/base/envs/jax/lib/python3.12/site-packages/numba/experimental/jitclass/boxing.py:61\u001b[0m, in \u001b[0;36m_generate_method.<locals>.wrapper\u001b[0;34m(*args, **kwargs)\u001b[0m\n\u001b[1;32m     59\u001b[0m \u001b[38;5;129m@wraps\u001b[39m(func)\n\u001b[1;32m     60\u001b[0m \u001b[38;5;28;01mdef\u001b[39;00m \u001b[38;5;21mwrapper\u001b[39m(\u001b[38;5;241m*\u001b[39margs, \u001b[38;5;241m*\u001b[39m\u001b[38;5;241m*\u001b[39mkwargs):\n\u001b[0;32m---> 61\u001b[0m     \u001b[38;5;28;01mreturn\u001b[39;00m \u001b[43mmethod\u001b[49m\u001b[43m(\u001b[49m\u001b[38;5;241;43m*\u001b[39;49m\u001b[43margs\u001b[49m\u001b[43m,\u001b[49m\u001b[43m \u001b[49m\u001b[38;5;241;43m*\u001b[39;49m\u001b[38;5;241;43m*\u001b[39;49m\u001b[43mkwargs\u001b[49m\u001b[43m)\u001b[49m\n",
      "File \u001b[0;32m/opt/homebrew/Caskroom/miniforge/base/envs/jax/lib/python3.12/site-packages/numba/core/dispatcher.py:468\u001b[0m, in \u001b[0;36m_DispatcherBase._compile_for_args\u001b[0;34m(self, *args, **kws)\u001b[0m\n\u001b[1;32m    464\u001b[0m         msg \u001b[38;5;241m=\u001b[39m (\u001b[38;5;124mf\u001b[39m\u001b[38;5;124m\"\u001b[39m\u001b[38;5;132;01m{\u001b[39;00m\u001b[38;5;28mstr\u001b[39m(e)\u001b[38;5;241m.\u001b[39mrstrip()\u001b[38;5;132;01m}\u001b[39;00m\u001b[38;5;124m \u001b[39m\u001b[38;5;130;01m\\n\u001b[39;00m\u001b[38;5;130;01m\\n\u001b[39;00m\u001b[38;5;124mThis error may have been caused \u001b[39m\u001b[38;5;124m\"\u001b[39m\n\u001b[1;32m    465\u001b[0m                \u001b[38;5;124mf\u001b[39m\u001b[38;5;124m\"\u001b[39m\u001b[38;5;124mby the following argument(s):\u001b[39m\u001b[38;5;130;01m\\n\u001b[39;00m\u001b[38;5;132;01m{\u001b[39;00margs_str\u001b[38;5;132;01m}\u001b[39;00m\u001b[38;5;130;01m\\n\u001b[39;00m\u001b[38;5;124m\"\u001b[39m)\n\u001b[1;32m    466\u001b[0m         e\u001b[38;5;241m.\u001b[39mpatch_message(msg)\n\u001b[0;32m--> 468\u001b[0m     \u001b[43merror_rewrite\u001b[49m\u001b[43m(\u001b[49m\u001b[43me\u001b[49m\u001b[43m,\u001b[49m\u001b[43m \u001b[49m\u001b[38;5;124;43m'\u001b[39;49m\u001b[38;5;124;43mtyping\u001b[39;49m\u001b[38;5;124;43m'\u001b[39;49m\u001b[43m)\u001b[49m\n\u001b[1;32m    469\u001b[0m \u001b[38;5;28;01mexcept\u001b[39;00m errors\u001b[38;5;241m.\u001b[39mUnsupportedError \u001b[38;5;28;01mas\u001b[39;00m e:\n\u001b[1;32m    470\u001b[0m     \u001b[38;5;66;03m# Something unsupported is present in the user code, add help info\u001b[39;00m\n\u001b[1;32m    471\u001b[0m     error_rewrite(e, \u001b[38;5;124m'\u001b[39m\u001b[38;5;124munsupported_error\u001b[39m\u001b[38;5;124m'\u001b[39m)\n",
      "File \u001b[0;32m/opt/homebrew/Caskroom/miniforge/base/envs/jax/lib/python3.12/site-packages/numba/core/dispatcher.py:409\u001b[0m, in \u001b[0;36m_DispatcherBase._compile_for_args.<locals>.error_rewrite\u001b[0;34m(e, issue_type)\u001b[0m\n\u001b[1;32m    407\u001b[0m     \u001b[38;5;28;01mraise\u001b[39;00m e\n\u001b[1;32m    408\u001b[0m \u001b[38;5;28;01melse\u001b[39;00m:\n\u001b[0;32m--> 409\u001b[0m     \u001b[38;5;28;01mraise\u001b[39;00m e\u001b[38;5;241m.\u001b[39mwith_traceback(\u001b[38;5;28;01mNone\u001b[39;00m)\n",
      "\u001b[0;31mTypingError\u001b[0m: Failed in nopython mode pipeline (step: nopython frontend)\n\u001b[1m\u001b[1m\u001b[1m\u001b[1m- Resolution failure for literal arguments:\n\u001b[1mFailed in nopython mode pipeline (step: nopython frontend)\n\u001b[1m\u001b[1mNo implementation of function Function(<built-in function getitem>) found for signature:\n\n >>> getitem(array(float64, 3d, C), Tuple(int64, array(float64, 1d, C), int64))\n\nThere are 22 candidate implementations:\n\u001b[1m  - Of which 20 did not match due to:\n  Overload of function 'getitem': File: <numerous>: Line N/A.\n    With argument(s): '(array(float64, 3d, C), Tuple(int64, array(float64, 1d, C), int64))':\u001b[0m\n\u001b[1m   No match.\u001b[0m\n\u001b[1m  - Of which 2 did not match due to:\n  Overload in function 'GetItemBuffer.generic': File: numba/core/typing/arraydecl.py: Line 209.\n    With argument(s): '(array(float64, 3d, C), Tuple(int64, array(float64, 1d, C), int64))':\u001b[0m\n\u001b[1m   Rejected as the implementation raised a specific error:\n     NumbaTypeError: \u001b[1mUnsupported array index type array(float64, 1d, C) in Tuple(int64, array(float64, 1d, C), int64)\u001b[0m\u001b[0m\n  raised from /opt/homebrew/Caskroom/miniforge/base/envs/jax/lib/python3.12/site-packages/numba/core/typing/arraydecl.py:102\n\u001b[0m\n\u001b[0m\u001b[1mDuring: typing of intrinsic-call at /Users/marcel/git/Vitber-indmat/layers.py (460)\u001b[0m\n\u001b[1m\nFile \"layers.py\", line 460:\u001b[0m\n\u001b[1m    def forward(self, y_pred: np.ndarray, y_true: np.ndarray):\n        <source elided>\n            for seq_index in range(y_pred.shape[2]):\n\u001b[1m                per_token_loss[batch_index, seq_index] = -np.log(y_pred[batch_index, y_true[batch_index, seq_index], seq_index] + self.epsilon)\n\u001b[0m                \u001b[1m^\u001b[0m\u001b[0m\n\u001b[0m\n\u001b[0m\u001b[1m- Resolution failure for non-literal arguments:\n\u001b[1mNone\u001b[0m\n\u001b[0m\u001b[0m\n\u001b[0m\u001b[1mDuring: resolving callee type: BoundFunction((<class 'numba.core.types.misc.ClassInstanceType'>, 'forward') for instance.jitclass.CrossEntropy#317627080<epsilon:float64,prev_y_pred:OptionalType(array(float64, 3d, A)),prev_y:OptionalType(array(int64, 2d, A))>)\u001b[0m\n\u001b[0m\u001b[1mDuring: typing of call at <string> (3)\n\u001b[0m\n\u001b[1m\nFile \"<string>\", line 3:\u001b[0m\n\u001b[1m<source missing, REPL/exec in use?>\u001b[0m\n"
     ]
    }
   ],
   "source": [
    "from layers import CrossEntropy\n",
    "\n",
    "class CrossEntropyLossJax(eqx.Module):\n",
    "    def __call__(self, x, y):\n",
    "        return -jnp.sum(y * jax.nn.log_softmax(x, axis=1))\n",
    "\n",
    "loss_jax = CrossEntropyLossJax()\n",
    "\n",
    "loss = CrossEntropy()\n",
    "\n",
    "x = jrandom.normal(key, (batch_size, 3, seq))\n",
    "y = jrandom.normal(key, (batch_size, 3, seq))\n",
    "\n",
    "test_backward(loss_jax, loss, x, y)"
   ]
  },
  {
   "cell_type": "code",
   "execution_count": null,
   "metadata": {},
   "outputs": [],
   "source": []
  }
 ],
 "metadata": {
  "kernelspec": {
   "display_name": "Python 3.12.2 64-bit",
   "language": "python",
   "name": "python3"
  },
  "language_info": {
   "codemirror_mode": {
    "name": "ipython",
    "version": 3
   },
   "file_extension": ".py",
   "mimetype": "text/x-python",
   "name": "python",
   "nbconvert_exporter": "python",
   "pygments_lexer": "ipython3",
   "version": "3.12.2"
  },
  "vscode": {
   "interpreter": {
    "hash": "aee8b7b246df8f9039afb4144a1f6fd8d2ca17a180786b69acc140d282b71a49"
   }
  }
 },
 "nbformat": 4,
 "nbformat_minor": 2
}
